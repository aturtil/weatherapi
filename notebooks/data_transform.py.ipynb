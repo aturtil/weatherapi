{
 "cells": [
  {
   "cell_type": "code",
   "execution_count": 8,
   "metadata": {},
   "outputs": [],
   "source": [
    "import pandas as pd\n",
    "\n",
    "# Load the data saved in the previous steps\n",
    "weather_data = pd.read_csv('../data/CSV/weather_data.csv')\n",
    "\n",
    "# Drop rows with missing values\n",
    "weather_data = weather_data.dropna()\n",
    "\n",
    "# Ensure the time column is a datetime object\n",
    "weather_data['time'] = pd.to_datetime(weather_data['time'])\n",
    "\n",
    "# Extract month and year\n",
    "weather_data['month'] = weather_data['time'].dt.month\n",
    "weather_data['year'] = weather_data['time'].dt.year\n",
    "\n",
    "# Calculate monthly medians\n",
    "monthly_medians = weather_data.groupby(['year', 'month']).median(numeric_only=True).reset_index()\n",
    "\n",
    "# Save to CSV\n",
    "monthly_medians.to_csv('../data/CSV/monthly_medians.csv', index=False)\n",
    "\n",
    "# Calculate yearly medians\n",
    "yearly_medians = weather_data.groupby('year').median(numeric_only=True).reset_index()\n",
    "\n",
    "# Save to CSV\n",
    "yearly_medians.to_csv('../data/CSV/yearly_medians.csv', index=False)\n",
    "\n",
    "# Load the harvest data\n",
    "harvest_data = pd.read_csv('../data/CSV/br_final.csv')\n",
    "\n",
    "# Drop rows with missing values in harvest data\n",
    "harvest_data = harvest_data.dropna()\n",
    "\n",
    "# Merge yearly medians of weather data with harvest data on the 'year' column\n",
    "yearly_combined = pd.merge(yearly_medians, harvest_data, on='year', how='inner')\n",
    "\n",
    "# Save the combined data to CSV\n",
    "yearly_combined.to_csv('../data/CSV/yearly_combined.csv', index=False)"
   ]
  }
 ],
 "metadata": {
  "kernelspec": {
   "display_name": "ds",
   "language": "python",
   "name": "python3"
  },
  "language_info": {
   "codemirror_mode": {
    "name": "ipython",
    "version": 3
   },
   "file_extension": ".py",
   "mimetype": "text/x-python",
   "name": "python",
   "nbconvert_exporter": "python",
   "pygments_lexer": "ipython3",
   "version": "3.12.7"
  }
 },
 "nbformat": 4,
 "nbformat_minor": 2
}
